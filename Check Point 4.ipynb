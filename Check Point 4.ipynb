{
 "cells": [
  {
   "cell_type": "code",
   "execution_count": 1,
   "id": "48c90162",
   "metadata": {},
   "outputs": [
    {
     "data": {
      "text/plain": [
       "35"
      ]
     },
     "execution_count": 1,
     "metadata": {},
     "output_type": "execute_result"
    }
   ],
   "source": [
    "def Maximum (a,b,c):\n",
    "    x = max(a,b,c)\n",
    "    return (x)\n",
    "Maximum(20,35,19)"
   ]
  },
  {
   "cell_type": "code",
   "execution_count": 2,
   "id": "bf78189f",
   "metadata": {},
   "outputs": [
    {
     "data": {
      "text/plain": [
       "(40, 20)"
      ]
     },
     "execution_count": 2,
     "metadata": {},
     "output_type": "execute_result"
    }
   ],
   "source": [
    "def calculation (a,b):\n",
    "    x = a+b\n",
    "    y= a-b\n",
    "    return (x,y)\n",
    "\n",
    "calculation(30,10)"
   ]
  },
  {
   "cell_type": "code",
   "execution_count": 4,
   "id": "463df18d",
   "metadata": {},
   "outputs": [
    {
     "data": {
      "text/plain": [
       "(6, 9)"
      ]
     },
     "execution_count": 4,
     "metadata": {},
     "output_type": "execute_result"
    }
   ],
   "source": [
    "k =[3,2,3,4]\n",
    "m = []\n",
    "n=[]\n",
    "def function1(list1):\n",
    "    x = sum(list1)\n",
    "    return(x)\n",
    "def function2(list1):\n",
    "    import numpy\n",
    "    y = numpy.prod(list1)\n",
    "    return(y)\n",
    "for i in (k):\n",
    "    if i%2==0:\n",
    "         m.append(i)\n",
    "    if i%2!=0:\n",
    "        n.append(i)\n",
    "\n",
    "function1 (m),function2 (n)"
   ]
  },
  {
   "cell_type": "code",
   "execution_count": null,
   "id": "5a509d42",
   "metadata": {},
   "outputs": [],
   "source": [
    "items=[n for n in input().split('-')]\n",
    "items.sort()\n",
    "print('-'.join(items))"
   ]
  }
 ],
 "metadata": {
  "kernelspec": {
   "display_name": "Python 3 (ipykernel)",
   "language": "python",
   "name": "python3"
  },
  "language_info": {
   "codemirror_mode": {
    "name": "ipython",
    "version": 3
   },
   "file_extension": ".py",
   "mimetype": "text/x-python",
   "name": "python",
   "nbconvert_exporter": "python",
   "pygments_lexer": "ipython3",
   "version": "3.9.12"
  }
 },
 "nbformat": 4,
 "nbformat_minor": 5
}
