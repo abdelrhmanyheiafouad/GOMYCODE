{
 "cells": [
  {
   "cell_type": "code",
   "execution_count": 5,
   "id": "15b3215d",
   "metadata": {},
   "outputs": [
    {
     "name": "stdout",
     "output_type": "stream",
     "text": [
      "(1,2,3)\n"
     ]
    }
   ],
   "source": [
    "class Point3D:\n",
    "    def __init__(self, x, y, z):\n",
    "        self.x = x\n",
    "        self.y = y\n",
    "        self.z = z\n",
    "    def __repr__(self):\n",
    "        return \"({},{},{})\" .format (self.x, self.y, self.z)\n",
    "        \n",
    "my_point = Point3D(1,2,3)\n",
    "\n",
    "print (my_point)"
   ]
  },
  {
   "cell_type": "code",
   "execution_count": 6,
   "id": "9fcc667d",
   "metadata": {},
   "outputs": [
    {
     "name": "stdout",
     "output_type": "stream",
     "text": [
      "12 14\n"
     ]
    }
   ],
   "source": [
    "class Rectangle:\n",
    "    \n",
    "    def __init__(self, w, l):\n",
    "        self.w = w\n",
    "        self.l = l\n",
    "    def area(self):\n",
    "        return self.w*self.l\n",
    "    def perim(self):\n",
    "        return 2*(self.w+self.l)\n",
    "\n",
    "newRectangle = Rectangle(3,4)\n",
    "print(newRectangle.area(),newRectangle.perim())"
   ]
  },
  {
   "cell_type": "code",
   "execution_count": 7,
   "id": "23e42c0b",
   "metadata": {},
   "outputs": [
    {
     "name": "stdout",
     "output_type": "stream",
     "text": [
      "200.96 50.24\n"
     ]
    }
   ],
   "source": [
    "class Circle():\n",
    "    def __init__(self, r,x,y):\n",
    "        self.radius = r\n",
    "        self.x = x\n",
    "        self.y = y\n",
    "\n",
    "    def area(self):\n",
    "        return self.radius**2*3.14\n",
    "    \n",
    "    def prim(self):\n",
    "        return 2*self.radius*3.14\n",
    "    def loc(self,x1,y1):\n",
    "        if (x1-self.x)**3 + (y1-self.x)**3 < self.radius**2:\n",
    "            print('Point is outside the cricle')\n",
    "        else:\n",
    "            print('Point is inside the cricle')\n",
    "\n",
    "newCircle = Circle(8,2,2)\n",
    "print(newCircle.area(),newCircle.prim(),newCircle.loc(1,1))"
   ]
  },
  {
   "cell_type": "code",
   "execution_count": null,
   "id": "55c65b4a",
   "metadata": {},
   "outputs": [],
   "source": [
    "class ATM:\n",
    "    def __init__(self):\n",
    "        self.balance=0\n",
    " \n",
    "    def deposit(self):\n",
    "        amount=float(input(\"Amt Deposited:\"))\n",
    "        self.balance += amount\n",
    "        print(\"Balance:\",amount)\n",
    " \n",
    "    def withdraw(self):\n",
    "        amount = float(input(\"Amt Withdrawn:\"))\n",
    "        if self.balance>=amount:\n",
    "            self.balance-=amount\n",
    "            print(\"Balance:\", amount)\n",
    "        else:\n",
    "            print(\"No Balanc3\")\n",
    " \n",
    "    def display(self):\n",
    "        print(\" Final Balance=\",self.balance)\n",
    "\n",
    "        \n",
    "s = ATM()\n",
    "s.deposit()\n",
    "s.withdraw()\n",
    "s.display()"
   ]
  }
 ],
 "metadata": {
  "kernelspec": {
   "display_name": "Python 3 (ipykernel)",
   "language": "python",
   "name": "python3"
  },
  "language_info": {
   "codemirror_mode": {
    "name": "ipython",
    "version": 3
   },
   "file_extension": ".py",
   "mimetype": "text/x-python",
   "name": "python",
   "nbconvert_exporter": "python",
   "pygments_lexer": "ipython3",
   "version": "3.9.12"
  }
 },
 "nbformat": 4,
 "nbformat_minor": 5
}
